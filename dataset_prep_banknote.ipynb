{
 "cells": [
  {
   "cell_type": "code",
   "execution_count": 20,
   "id": "f50d086f",
   "metadata": {},
   "outputs": [],
   "source": [
    "# IMPORT Generals \n",
    "import os\n",
    "import sys\n",
    "import numpy as np\n",
    "import pandas as pd\n",
    "import warnings\n",
    "warnings.filterwarnings(\"ignore\")\n",
    "import seaborn as sns\n",
    "import matplotlib.pyplot as plt\n",
    "from sklearn.model_selection import train_test_split"
   ]
  },
  {
   "cell_type": "code",
   "execution_count": 21,
   "id": "6d298f55",
   "metadata": {},
   "outputs": [],
   "source": [
    "# LOAD the Banknote Dataset \n",
    "np_data = np.genfromtxt('source_data/data_banknote_authentication.csv', delimiter=',')\n",
    "data_cols = ['variance', 'skewness', 'curtosis', 'entropy', 'class']\n",
    "\n",
    "df_banknote = pd.DataFrame(data=np_data, columns=data_cols)\n",
    "\n",
    "# 1. variance of Wavelet Transformed image (continuous)\n",
    "# 2. skewness of Wavelet Transformed image (continuous)\n",
    "# 3. curtosis of Wavelet Transformed image (continuous)\n",
    "# 4. entropy of image (continuous)\n",
    "# 5. class of banknote - real/fake (integer)"
   ]
  },
  {
   "cell_type": "code",
   "execution_count": 22,
   "id": "2462d243",
   "metadata": {},
   "outputs": [],
   "source": [
    "# SPLIT DATASET - Original & Normalized Original\n",
    "data_train_orig, data_test_orig = train_test_split(df_banknote, test_size=0.25, random_state=42)\n",
    "\n",
    "# SAVE original train & test datasets\n",
    "data_train_orig.to_csv('source_data/banknote_orig_train.csv', index=False)\n",
    "data_test_orig.to_csv('source_data/banknote_orig_test.csv', index=False)"
   ]
  },
  {
   "cell_type": "code",
   "execution_count": 28,
   "id": "b695efe5",
   "metadata": {},
   "outputs": [],
   "source": [
    "def fundamental_data_analytics(df_source):\n",
    "    \n",
    "    list_min = df_source.min().to_list()\n",
    "    list_max = df_source.max().to_list()\n",
    "    list_mean = df_source.mean().to_list()\n",
    "    list_var = df_source.var().to_list()\n",
    "    \n",
    "    list_mean = [round(num, 4) for num in list_mean]\n",
    "\n",
    "    # aggregate information within one single dataframe \n",
    "    joint_df = pd.DataFrame(list(zip(data_cols, list_mean, list_var, list_min, list_max)),\n",
    "                            columns =['attribute name', 'mean', 'var', 'min', 'max'])\n",
    "\n",
    "    print(df_source.info())\n",
    "    print('\\n', df_source.hist(bins=100, figsize=(15, 10), color='#86BC25'))\n",
    "    display(joint_df)"
   ]
  },
  {
   "cell_type": "code",
   "execution_count": 31,
   "id": "0a3e9213",
   "metadata": {},
   "outputs": [
    {
     "name": "stdout",
     "output_type": "stream",
     "text": [
      "<class 'pandas.core.frame.DataFrame'>\n",
      "RangeIndex: 1372 entries, 0 to 1371\n",
      "Data columns (total 5 columns):\n",
      " #   Column    Non-Null Count  Dtype  \n",
      "---  ------    --------------  -----  \n",
      " 0   variance  1372 non-null   float64\n",
      " 1   skewness  1372 non-null   float64\n",
      " 2   curtosis  1372 non-null   float64\n",
      " 3   entropy   1372 non-null   float64\n",
      " 4   class     1372 non-null   float64\n",
      "dtypes: float64(5)\n",
      "memory usage: 53.7 KB\n",
      "None\n",
      "\n",
      " [[<AxesSubplot:title={'center':'variance'}>\n",
      "  <AxesSubplot:title={'center':'skewness'}>]\n",
      " [<AxesSubplot:title={'center':'curtosis'}>\n",
      "  <AxesSubplot:title={'center':'entropy'}>]\n",
      " [<AxesSubplot:title={'center':'class'}> <AxesSubplot:>]]\n"
     ]
    },
    {
     "data": {
      "text/html": [
       "<div>\n",
       "<style scoped>\n",
       "    .dataframe tbody tr th:only-of-type {\n",
       "        vertical-align: middle;\n",
       "    }\n",
       "\n",
       "    .dataframe tbody tr th {\n",
       "        vertical-align: top;\n",
       "    }\n",
       "\n",
       "    .dataframe thead th {\n",
       "        text-align: right;\n",
       "    }\n",
       "</style>\n",
       "<table border=\"1\" class=\"dataframe\">\n",
       "  <thead>\n",
       "    <tr style=\"text-align: right;\">\n",
       "      <th></th>\n",
       "      <th>attribute name</th>\n",
       "      <th>mean</th>\n",
       "      <th>var</th>\n",
       "      <th>min</th>\n",
       "      <th>max</th>\n",
       "    </tr>\n",
       "  </thead>\n",
       "  <tbody>\n",
       "    <tr>\n",
       "      <th>0</th>\n",
       "      <td>variance</td>\n",
       "      <td>0.4337</td>\n",
       "      <td>8.081299</td>\n",
       "      <td>-7.0421</td>\n",
       "      <td>6.8248</td>\n",
       "    </tr>\n",
       "    <tr>\n",
       "      <th>1</th>\n",
       "      <td>skewness</td>\n",
       "      <td>1.9224</td>\n",
       "      <td>34.445710</td>\n",
       "      <td>-13.7731</td>\n",
       "      <td>12.9516</td>\n",
       "    </tr>\n",
       "    <tr>\n",
       "      <th>2</th>\n",
       "      <td>curtosis</td>\n",
       "      <td>1.3976</td>\n",
       "      <td>18.576359</td>\n",
       "      <td>-5.2861</td>\n",
       "      <td>17.9274</td>\n",
       "    </tr>\n",
       "    <tr>\n",
       "      <th>3</th>\n",
       "      <td>entropy</td>\n",
       "      <td>-1.1917</td>\n",
       "      <td>4.414256</td>\n",
       "      <td>-8.5482</td>\n",
       "      <td>2.4495</td>\n",
       "    </tr>\n",
       "    <tr>\n",
       "      <th>4</th>\n",
       "      <td>class</td>\n",
       "      <td>0.4446</td>\n",
       "      <td>0.247112</td>\n",
       "      <td>0.0000</td>\n",
       "      <td>1.0000</td>\n",
       "    </tr>\n",
       "  </tbody>\n",
       "</table>\n",
       "</div>"
      ],
      "text/plain": [
       "  attribute name    mean        var      min      max\n",
       "0       variance  0.4337   8.081299  -7.0421   6.8248\n",
       "1       skewness  1.9224  34.445710 -13.7731  12.9516\n",
       "2       curtosis  1.3976  18.576359  -5.2861  17.9274\n",
       "3        entropy -1.1917   4.414256  -8.5482   2.4495\n",
       "4          class  0.4446   0.247112   0.0000   1.0000"
      ]
     },
     "metadata": {},
     "output_type": "display_data"
    },
    {
     "data": {
      "image/png": "[encoded data removed]",
      "text/plain": [
       "<Figure size 1080x720 with 6 Axes>"
      ]
     },
     "metadata": {
      "needs_background": "light"
     },
     "output_type": "display_data"
    }
   ],
   "source": [
    "fundamental_data_analytics(df_banknote)"
   ]
  },
  {
   "cell_type": "code",
   "execution_count": 29,
   "id": "2b67fc48",
   "metadata": {
    "collapsed": true
   },
   "outputs": [
    {
     "name": "stdout",
     "output_type": "stream",
     "text": [
      "<class 'pandas.core.frame.DataFrame'>\n",
      "Int64Index: 1029 entries, 1282 to 1126\n",
      "Data columns (total 5 columns):\n",
      " #   Column    Non-Null Count  Dtype  \n",
      "---  ------    --------------  -----  \n",
      " 0   variance  1029 non-null   float64\n",
      " 1   skewness  1029 non-null   float64\n",
      " 2   curtosis  1029 non-null   float64\n",
      " 3   entropy   1029 non-null   float64\n",
      " 4   class     1029 non-null   float64\n",
      "dtypes: float64(5)\n",
      "memory usage: 48.2 KB\n",
      "None\n",
      "\n",
      " [[<AxesSubplot:title={'center':'variance'}>\n",
      "  <AxesSubplot:title={'center':'skewness'}>]\n",
      " [<AxesSubplot:title={'center':'curtosis'}>\n",
      "  <AxesSubplot:title={'center':'entropy'}>]\n",
      " [<AxesSubplot:title={'center':'class'}> <AxesSubplot:>]]\n"
     ]
    },
    {
     "data": {
      "text/html": [
       "<div>\n",
       "<style scoped>\n",
       "    .dataframe tbody tr th:only-of-type {\n",
       "        vertical-align: middle;\n",
       "    }\n",
       "\n",
       "    .dataframe tbody tr th {\n",
       "        vertical-align: top;\n",
       "    }\n",
       "\n",
       "    .dataframe thead th {\n",
       "        text-align: right;\n",
       "    }\n",
       "</style>\n",
       "<table border=\"1\" class=\"dataframe\">\n",
       "  <thead>\n",
       "    <tr style=\"text-align: right;\">\n",
       "      <th></th>\n",
       "      <th>attribute name</th>\n",
       "      <th>mean</th>\n",
       "      <th>var</th>\n",
       "      <th>min</th>\n",
       "      <th>max</th>\n",
       "    </tr>\n",
       "  </thead>\n",
       "  <tbody>\n",
       "    <tr>\n",
       "      <th>0</th>\n",
       "      <td>variance</td>\n",
       "      <td>0.4134</td>\n",
       "      <td>8.074647</td>\n",
       "      <td>-7.0421</td>\n",
       "      <td>6.8248</td>\n",
       "    </tr>\n",
       "    <tr>\n",
       "      <th>1</th>\n",
       "      <td>skewness</td>\n",
       "      <td>1.7954</td>\n",
       "      <td>35.121728</td>\n",
       "      <td>-13.7731</td>\n",
       "      <td>12.9516</td>\n",
       "    </tr>\n",
       "    <tr>\n",
       "      <th>2</th>\n",
       "      <td>curtosis</td>\n",
       "      <td>1.4847</td>\n",
       "      <td>18.824753</td>\n",
       "      <td>-5.2613</td>\n",
       "      <td>17.9274</td>\n",
       "    </tr>\n",
       "    <tr>\n",
       "      <th>3</th>\n",
       "      <td>entropy</td>\n",
       "      <td>-1.2003</td>\n",
       "      <td>4.380593</td>\n",
       "      <td>-8.5482</td>\n",
       "      <td>2.1625</td>\n",
       "    </tr>\n",
       "    <tr>\n",
       "      <th>4</th>\n",
       "      <td>class</td>\n",
       "      <td>0.4451</td>\n",
       "      <td>0.247225</td>\n",
       "      <td>0.0000</td>\n",
       "      <td>1.0000</td>\n",
       "    </tr>\n",
       "  </tbody>\n",
       "</table>\n",
       "</div>"
      ],
      "text/plain": [
       "  attribute name    mean        var      min      max\n",
       "0       variance  0.4134   8.074647  -7.0421   6.8248\n",
       "1       skewness  1.7954  35.121728 -13.7731  12.9516\n",
       "2       curtosis  1.4847  18.824753  -5.2613  17.9274\n",
       "3        entropy -1.2003   4.380593  -8.5482   2.1625\n",
       "4          class  0.4451   0.247225   0.0000   1.0000"
      ]
     },
     "metadata": {},
     "output_type": "display_data"
    },
    {
     "data": {
      "image/png": "[encoded data removed]",
      "text/plain": [
       "<Figure size 1080x720 with 6 Axes>"
      ]
     },
     "metadata": {
      "needs_background": "light"
     },
     "output_type": "display_data"
    }
   ],
   "source": [
    "fundamental_data_analytics(data_train_orig)"
   ]
  },
  {
   "cell_type": "code",
   "execution_count": 30,
   "id": "d4c02cd1",
   "metadata": {
    "collapsed": true
   },
   "outputs": [
    {
     "name": "stdout",
     "output_type": "stream",
     "text": [
      "<class 'pandas.core.frame.DataFrame'>\n",
      "Int64Index: 343 entries, 430 to 1022\n",
      "Data columns (total 5 columns):\n",
      " #   Column    Non-Null Count  Dtype  \n",
      "---  ------    --------------  -----  \n",
      " 0   variance  343 non-null    float64\n",
      " 1   skewness  343 non-null    float64\n",
      " 2   curtosis  343 non-null    float64\n",
      " 3   entropy   343 non-null    float64\n",
      " 4   class     343 non-null    float64\n",
      "dtypes: float64(5)\n",
      "memory usage: 16.1 KB\n",
      "None\n",
      "\n",
      " [[<AxesSubplot:title={'center':'variance'}>\n",
      "  <AxesSubplot:title={'center':'skewness'}>]\n",
      " [<AxesSubplot:title={'center':'curtosis'}>\n",
      "  <AxesSubplot:title={'center':'entropy'}>]\n",
      " [<AxesSubplot:title={'center':'class'}> <AxesSubplot:>]]\n"
     ]
    },
    {
     "data": {
      "text/html": [
       "<div>\n",
       "<style scoped>\n",
       "    .dataframe tbody tr th:only-of-type {\n",
       "        vertical-align: middle;\n",
       "    }\n",
       "\n",
       "    .dataframe tbody tr th {\n",
       "        vertical-align: top;\n",
       "    }\n",
       "\n",
       "    .dataframe thead th {\n",
       "        text-align: right;\n",
       "    }\n",
       "</style>\n",
       "<table border=\"1\" class=\"dataframe\">\n",
       "  <thead>\n",
       "    <tr style=\"text-align: right;\">\n",
       "      <th></th>\n",
       "      <th>attribute name</th>\n",
       "      <th>mean</th>\n",
       "      <th>var</th>\n",
       "      <th>min</th>\n",
       "      <th>max</th>\n",
       "    </tr>\n",
       "  </thead>\n",
       "  <tbody>\n",
       "    <tr>\n",
       "      <th>0</th>\n",
       "      <td>variance</td>\n",
       "      <td>0.4948</td>\n",
       "      <td>8.119933</td>\n",
       "      <td>-6.7526</td>\n",
       "      <td>5.9374</td>\n",
       "    </tr>\n",
       "    <tr>\n",
       "      <th>1</th>\n",
       "      <td>skewness</td>\n",
       "      <td>2.3031</td>\n",
       "      <td>32.320596</td>\n",
       "      <td>-13.2869</td>\n",
       "      <td>12.5398</td>\n",
       "    </tr>\n",
       "    <tr>\n",
       "      <th>2</th>\n",
       "      <td>curtosis</td>\n",
       "      <td>1.1363</td>\n",
       "      <td>17.792747</td>\n",
       "      <td>-5.2861</td>\n",
       "      <td>17.1116</td>\n",
       "    </tr>\n",
       "    <tr>\n",
       "      <th>3</th>\n",
       "      <td>entropy</td>\n",
       "      <td>-1.1657</td>\n",
       "      <td>4.527449</td>\n",
       "      <td>-7.7853</td>\n",
       "      <td>2.4495</td>\n",
       "    </tr>\n",
       "    <tr>\n",
       "      <th>4</th>\n",
       "      <td>class</td>\n",
       "      <td>0.4431</td>\n",
       "      <td>0.247489</td>\n",
       "      <td>0.0000</td>\n",
       "      <td>1.0000</td>\n",
       "    </tr>\n",
       "  </tbody>\n",
       "</table>\n",
       "</div>"
      ],
      "text/plain": [
       "  attribute name    mean        var      min      max\n",
       "0       variance  0.4948   8.119933  -6.7526   5.9374\n",
       "1       skewness  2.3031  32.320596 -13.2869  12.5398\n",
       "2       curtosis  1.1363  17.792747  -5.2861  17.1116\n",
       "3        entropy -1.1657   4.527449  -7.7853   2.4495\n",
       "4          class  0.4431   0.247489   0.0000   1.0000"
      ]
     },
     "metadata": {},
     "output_type": "display_data"
    },
    {
     "data": {
      "image/png": "[encoded data removed]",
      "text/plain": [
       "<Figure size 1080x720 with 6 Axes>"
      ]
     },
     "metadata": {
      "needs_background": "light"
     },
     "output_type": "display_data"
    }
   ],
   "source": [
    "fundamental_data_analytics(data_test_orig)"
   ]
  }
 ],
 "metadata": {
  "kernelspec": {
   "display_name": "Python 3 (ipykernel)",
   "language": "python",
   "name": "python3"
  },
  "language_info": {
   "codemirror_mode": {
    "name": "ipython",
    "version": 3
   },
   "file_extension": ".py",
   "mimetype": "text/x-python",
   "name": "python",
   "nbconvert_exporter": "python",
   "pygments_lexer": "ipython3",
   "version": "3.9.7"
  }
 },
 "nbformat": 4,
 "nbformat_minor": 5
}
